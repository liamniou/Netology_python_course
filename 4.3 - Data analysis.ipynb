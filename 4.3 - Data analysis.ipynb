{
 "cells": [
  {
   "cell_type": "code",
   "execution_count": 102,
   "metadata": {},
   "outputs": [],
   "source": [
    "import requests\n",
    "import pandas as pd\n",
    "import numpy as np\n",
    "import matplotlib.pyplot as plt\n",
    "import random\n",
    "from scipy.cluster.vq import whiten, kmeans2\n",
    "%matplotlib inline\n"
   ]
  },
  {
   "cell_type": "code",
   "execution_count": 103,
   "metadata": {},
   "outputs": [],
   "source": [
    "def call_api(uri, result_key):\n",
    "    json = {}\n",
    "    try:\n",
    "        json = requests.get(uri, headers = { 'X-Auth-Token': 'ef6770f808854c2b9576b954e25631a6' }).json()\n",
    "        return json[result_key]\n",
    "    except:\n",
    "        print(json)\n",
    "        return None\n",
    "\n",
    "\n",
    "teams = call_api('http://api.football-data.org/v1/competitions/455/teams', 'teams')\n",
    "for team in teams:\n",
    "    squadMarketValue = team['squadMarketValue']\n",
    "    if squadMarketValue == None:\n",
    "        squadMarketValue = random.randint(100000, 5000000)\n",
    "    fixtures = call_api(team['_links']['fixtures']['href'], 'fixtures')\n",
    "    looses = 0\n",
    "    for f in fixtures:\n",
    "        if team['name'] == f['homeTeamName']:\n",
    "            if f['result']['goalsHomeTeam'] and f['result']['goalsAwayTeam']:\n",
    "                if f['result']['goalsHomeTeam'] < f['result']['goalsAwayTeam']:                \n",
    "                    looses += 1\n",
    "        else:\n",
    "            if f['result']['goalsHomeTeam'] and f['result']['goalsAwayTeam']:\n",
    "                if f['result']['goalsAwayTeam'] < f['result']['goalsHomeTeam']:\n",
    "                    looses += 1 if f['result']['goalsHomeTeam'] else 0\n",
    "    team['squadMarketValue'] = squadMarketValue\n",
    "    team['looses'] = looses    \n",
    "\n",
    "team_for_pd = []\n",
    "for team in teams:\n",
    "    if team['looses']:\n",
    "        team_for_pd.append({'name': team['name'], 'squadMarketValue': team['squadMarketValue'], 'looses': team['looses']})\n",
    "teams_pd = pd.DataFrame(team_for_pd)\n",
    "del teams_pd['name']"
   ]
  },
  {
   "cell_type": "code",
   "execution_count": 104,
   "metadata": {},
   "outputs": [
    {
     "data": {
      "text/plain": [
       "<matplotlib.axes._subplots.AxesSubplot at 0x146ffdd0>"
      ]
     },
     "execution_count": 104,
     "metadata": {},
     "output_type": "execute_result"
    },
    {
     "data": {
      "image/png": "[encoded data removed]",
      "text/plain": [
       "<matplotlib.figure.Figure at 0x3948d70>"
      ]
     },
     "metadata": {},
     "output_type": "display_data"
    }
   ],
   "source": [
    "whitened = whiten(teams_pd.as_matrix())\n",
    "centroids, cluster_map = kmeans2(whitened, 3)\n",
    "colors_map = {0: 'r', 1: 'g', 2: 'b'}\n",
    "colors = [colors_map[c] for c in cluster_map]\n",
    "teams_pd.plot.scatter(x='squadMarketValue', y='looses', c=colors, s=50)"
   ]
  },
  {
   "cell_type": "code",
   "execution_count": 112,
   "metadata": {},
   "outputs": [
    {
     "data": {
      "text/plain": [
       "<matplotlib.axes._subplots.AxesSubplot at 0x148f5cb0>"
      ]
     },
     "execution_count": 112,
     "metadata": {},
     "output_type": "execute_result"
    },
    {
     "data": {
      "image/png": "[encoded data removed]",
      "text/plain": [
       "<matplotlib.figure.Figure at 0x148e9d10>"
      ]
     },
     "metadata": {},
     "output_type": "display_data"
    }
   ],
   "source": [
    "centroids, cluster_map = kmeans2(whitened, 5)\n",
    "centroids, cluster_map\n",
    "colors_map = {0: 'r', 1: 'g', 2: 'b', 3: 'y', 4: 'm'}\n",
    "colors = [colors_map[c] for c in cluster_map]\n",
    "teams_pd.plot.scatter(x='squadMarketValue', y='looses', c=colors, s=50)"
   ]
  },
  {
   "cell_type": "code",
   "execution_count": null,
   "metadata": {},
   "outputs": [],
   "source": []
  }
 ],
 "metadata": {
  "kernelspec": {
   "display_name": "Python 3",
   "language": "python",
   "name": "python3"
  },
  "language_info": {
   "codemirror_mode": {
    "name": "ipython",
    "version": 3
   },
   "file_extension": ".py",
   "mimetype": "text/x-python",
   "name": "python",
   "nbconvert_exporter": "python",
   "pygments_lexer": "ipython3",
   "version": "3.6.4"
  }
 },
 "nbformat": 4,
 "nbformat_minor": 2
}
